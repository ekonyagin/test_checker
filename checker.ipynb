{
 "cells": [
  {
   "cell_type": "code",
   "execution_count": 1,
   "metadata": {},
   "outputs": [],
   "source": [
    "import pandas as pd"
   ]
  },
  {
   "cell_type": "code",
   "execution_count": 2,
   "metadata": {},
   "outputs": [],
   "source": [
    "df = pd.read_csv(\"TestTest - Ответы на форму (1).csv\")"
   ]
  },
  {
   "cell_type": "code",
   "execution_count": 89,
   "metadata": {},
   "outputs": [
    {
     "data": {
      "text/html": [
       "<div>\n",
       "<style scoped>\n",
       "    .dataframe tbody tr th:only-of-type {\n",
       "        vertical-align: middle;\n",
       "    }\n",
       "\n",
       "    .dataframe tbody tr th {\n",
       "        vertical-align: top;\n",
       "    }\n",
       "\n",
       "    .dataframe thead th {\n",
       "        text-align: right;\n",
       "    }\n",
       "</style>\n",
       "<table border=\"1\" class=\"dataframe\">\n",
       "  <thead>\n",
       "    <tr style=\"text-align: right;\">\n",
       "      <th></th>\n",
       "      <th>Отметка времени</th>\n",
       "      <th>Q1</th>\n",
       "      <th>Q2</th>\n",
       "      <th>Q3</th>\n",
       "      <th>Q4</th>\n",
       "      <th>Q5</th>\n",
       "      <th>Q6</th>\n",
       "      <th>Q7</th>\n",
       "      <th>Q8</th>\n",
       "      <th>Q9</th>\n",
       "      <th>Q10</th>\n",
       "      <th>Адрес электронной почты</th>\n",
       "      <th>Баллы</th>\n",
       "      <th>Q1.1</th>\n",
       "    </tr>\n",
       "  </thead>\n",
       "  <tbody>\n",
       "    <tr>\n",
       "      <th>0</th>\n",
       "      <td>22.09.2019 12:24:49</td>\n",
       "      <td>1</td>\n",
       "      <td>3</td>\n",
       "      <td>3</td>\n",
       "      <td>2</td>\n",
       "      <td>1</td>\n",
       "      <td>2</td>\n",
       "      <td>1</td>\n",
       "      <td>1</td>\n",
       "      <td>1</td>\n",
       "      <td>1</td>\n",
       "      <td>NaN</td>\n",
       "      <td>3 / 18</td>\n",
       "      <td>NaN</td>\n",
       "    </tr>\n",
       "    <tr>\n",
       "      <th>1</th>\n",
       "      <td>23.09.2019 13:09:23</td>\n",
       "      <td>1</td>\n",
       "      <td>2</td>\n",
       "      <td>3</td>\n",
       "      <td>1</td>\n",
       "      <td>2</td>\n",
       "      <td>1</td>\n",
       "      <td>2</td>\n",
       "      <td>1</td>\n",
       "      <td>1</td>\n",
       "      <td>3</td>\n",
       "      <td>ekserviceek@gmail.com</td>\n",
       "      <td>1 / 18</td>\n",
       "      <td>NaN</td>\n",
       "    </tr>\n",
       "    <tr>\n",
       "      <th>2</th>\n",
       "      <td>23.09.2019 13:11:37</td>\n",
       "      <td>1, 2, 3, 4</td>\n",
       "      <td>2, 4</td>\n",
       "      <td>2, 3</td>\n",
       "      <td>1, 2, 3</td>\n",
       "      <td>2, 3</td>\n",
       "      <td>1, 2, 3</td>\n",
       "      <td>1, 2, 3</td>\n",
       "      <td>1, 2, 3</td>\n",
       "      <td>1, 2</td>\n",
       "      <td>1, 2</td>\n",
       "      <td>konyagin.ek@phystech.edu</td>\n",
       "      <td>0 / 18</td>\n",
       "      <td>NaN</td>\n",
       "    </tr>\n",
       "  </tbody>\n",
       "</table>\n",
       "</div>"
      ],
      "text/plain": [
       "       Отметка времени          Q1    Q2    Q3       Q4    Q5       Q6  \\\n",
       "0  22.09.2019 12:24:49           1     3     3        2     1        2   \n",
       "1  23.09.2019 13:09:23           1     2     3        1     2        1   \n",
       "2  23.09.2019 13:11:37  1, 2, 3, 4  2, 4  2, 3  1, 2, 3  2, 3  1, 2, 3   \n",
       "\n",
       "        Q7       Q8    Q9   Q10   Адрес электронной почты   Баллы  Q1.1  \n",
       "0        1        1     1     1                       NaN  3 / 18   NaN  \n",
       "1        2        1     1     3     ekserviceek@gmail.com  1 / 18   NaN  \n",
       "2  1, 2, 3  1, 2, 3  1, 2  1, 2  konyagin.ek@phystech.edu  0 / 18   NaN  "
      ]
     },
     "execution_count": 89,
     "metadata": {},
     "output_type": "execute_result"
    }
   ],
   "source": [
    "df"
   ]
  },
  {
   "cell_type": "code",
   "execution_count": 94,
   "metadata": {},
   "outputs": [],
   "source": [
    "df[df]"
   ]
  },
  {
   "cell_type": "code",
   "execution_count": 95,
   "metadata": {},
   "outputs": [
    {
     "data": {
      "text/plain": [
       "array([nan, 'ekserviceek@gmail.com', 'konyagin.ek@phystech.edu'],\n",
       "      dtype=object)"
      ]
     },
     "execution_count": 95,
     "metadata": {},
     "output_type": "execute_result"
    }
   ],
   "source": [
    "participants"
   ]
  },
  {
   "cell_type": "code",
   "execution_count": 29,
   "metadata": {},
   "outputs": [],
   "source": [
    "def StringParser(string):\n",
    "    out_array = []\n",
    "    string = string.split(',')\n",
    "   \n",
    "    for i in string:\n",
    "        try:\n",
    "            out_array.append(int(i))\n",
    "        except:\n",
    "            print(\"Omitting unknown value\")\n",
    "    return set(out_array)"
   ]
  },
  {
   "cell_type": "code",
   "execution_count": 73,
   "metadata": {},
   "outputs": [],
   "source": [
    "def RetrieveRes(df, participants):\n",
    "    ans_dict = {}\n",
    "    for p in participants:\n",
    "        a = list()\n",
    "        for i in range(10):\n",
    "            a.append(df[df['Адрес электронной почты']==p][\"Q\"+str(i+1)].values)\n",
    "        ans_dict[p] = a\n",
    "    return ans_dict"
   ]
  },
  {
   "cell_type": "code",
   "execution_count": null,
   "metadata": {},
   "outputs": [],
   "source": [
    "def Score(ans,correct_ans):\n",
    "    if(len(ans - correct_ans)) !=0:\n",
    "        score = 0\n",
    "    else:\n",
    "        score = len(ans)\n",
    "    return score"
   ]
  },
  {
   "cell_type": "code",
   "execution_count": 109,
   "metadata": {},
   "outputs": [],
   "source": [
    "def ApplyScore(participants_dict, correct_answers):\n",
    "    final_res = {}\n",
    "    for participant in participants_dict.keys():\n",
    "        res_current = participants_dict[participant]\n",
    "        sum = 0\n",
    "        for i in range(len(res_current)):\n",
    "            if len(res_current[i]) == 0:\n",
    "                continue\n",
    "            q = res_current[i][0]\n",
    "            sum +=Score(StringParser(q), correct_answers)\n",
    "        final_res[participant] = sum\n",
    "    return final_res"
   ]
  },
  {
   "cell_type": "code",
   "execution_count": 112,
   "metadata": {},
   "outputs": [],
   "source": [
    "#grades = ApplyScore(RetrieveRes(df, participants), correct_answers)"
   ]
  },
  {
   "cell_type": "code",
   "execution_count": null,
   "metadata": {},
   "outputs": [],
   "source": []
  },
  {
   "cell_type": "code",
   "execution_count": 45,
   "metadata": {},
   "outputs": [],
   "source": []
  },
  {
   "cell_type": "code",
   "execution_count": 80,
   "metadata": {},
   "outputs": [],
   "source": []
  },
  {
   "cell_type": "code",
   "execution_count": null,
   "metadata": {},
   "outputs": [],
   "source": []
  },
  {
   "cell_type": "code",
   "execution_count": null,
   "metadata": {},
   "outputs": [],
   "source": []
  }
 ],
 "metadata": {
  "kernelspec": {
   "display_name": "Python 3",
   "language": "python",
   "name": "python3"
  },
  "language_info": {
   "codemirror_mode": {
    "name": "ipython",
    "version": 3
   },
   "file_extension": ".py",
   "mimetype": "text/x-python",
   "name": "python",
   "nbconvert_exporter": "python",
   "pygments_lexer": "ipython3",
   "version": "3.6.5"
  }
 },
 "nbformat": 4,
 "nbformat_minor": 2
}
